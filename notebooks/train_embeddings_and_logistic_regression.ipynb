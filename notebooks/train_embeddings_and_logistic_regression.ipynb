{
 "cells": [
  {
   "cell_type": "markdown",
   "id": "wkm3sgbQvG_c",
   "metadata": {
    "id": "wkm3sgbQvG_c"
   },
   "source": [
    "**LIBRARIES**"
   ]
  },
  {
   "cell_type": "code",
   "execution_count": 1,
   "id": "kCAIqsYuCsEn",
   "metadata": {
    "colab": {
     "base_uri": "https://localhost:8080/"
    },
    "id": "kCAIqsYuCsEn",
    "outputId": "5f9fcf1d-e1c6-40d0-9179-49c67b89c724"
   },
   "outputs": [
    {
     "name": "stdout",
     "output_type": "stream",
     "text": [
      "Looking in indexes: https://pypi.org/simple, https://us-python.pkg.dev/colab-wheels/public/simple/\n",
      "Requirement already satisfied: glove-python-binary in /usr/local/lib/python3.8/dist-packages (0.2.0)\n",
      "Requirement already satisfied: numpy in /usr/local/lib/python3.8/dist-packages (from glove-python-binary) (1.21.6)\n",
      "Requirement already satisfied: scipy in /usr/local/lib/python3.8/dist-packages (from glove-python-binary) (1.7.3)\n"
     ]
    }
   ],
   "source": [
    "pip install glove-python-binary\n"
   ]
  },
  {
   "cell_type": "code",
   "execution_count": 2,
   "id": "th7M3wy-sTrG",
   "metadata": {
    "colab": {
     "base_uri": "https://localhost:8080/"
    },
    "id": "th7M3wy-sTrG",
    "outputId": "34652f63-bf6d-4d83-e51e-c26fee85e7ab"
   },
   "outputs": [
    {
     "name": "stdout",
     "output_type": "stream",
     "text": [
      "Looking in indexes: https://pypi.org/simple, https://us-python.pkg.dev/colab-wheels/public/simple/\n",
      "Requirement already satisfied: fasttext in /usr/local/lib/python3.8/dist-packages (0.9.2)\n",
      "Requirement already satisfied: numpy in /usr/local/lib/python3.8/dist-packages (from fasttext) (1.21.6)\n",
      "Requirement already satisfied: setuptools>=0.7.0 in /usr/local/lib/python3.8/dist-packages (from fasttext) (57.4.0)\n",
      "Requirement already satisfied: pybind11>=2.2 in /usr/local/lib/python3.8/dist-packages (from fasttext) (2.10.1)\n"
     ]
    }
   ],
   "source": [
    "pip install fasttext"
   ]
  },
  {
   "cell_type": "code",
   "execution_count": 4,
   "id": "JU__uaXxLhNc",
   "metadata": {
    "colab": {
     "base_uri": "https://localhost:8080/"
    },
    "id": "JU__uaXxLhNc",
    "outputId": "d0cb143a-fcd0-4e0f-8799-c7e57114bc96"
   },
   "outputs": [
    {
     "name": "stderr",
     "output_type": "stream",
     "text": [
      "[nltk_data] Downloading package wordnet to\n",
      "[nltk_data]     /Users/teframartin/nltk_data...\n",
      "[nltk_data]   Package wordnet is already up-to-date!\n",
      "[nltk_data] Downloading package omw-1.4 to\n",
      "[nltk_data]     /Users/teframartin/nltk_data...\n",
      "[nltk_data]   Package omw-1.4 is already up-to-date!\n"
     ]
    },
    {
     "ename": "ImportError",
     "evalue": "cannot import name 'LabeledSentence' from 'gensim.models.doc2vec' (/opt/homebrew/lib/python3.10/site-packages/gensim/models/doc2vec.py)",
     "output_type": "error",
     "traceback": [
      "\u001b[0;31m---------------------------------------------------------------------------\u001b[0m",
      "\u001b[0;31mImportError\u001b[0m                               Traceback (most recent call last)",
      "Cell \u001b[0;32mIn [4], line 24\u001b[0m\n\u001b[1;32m     22\u001b[0m \u001b[39m#gensim library\u001b[39;00m\n\u001b[1;32m     23\u001b[0m \u001b[39mimport\u001b[39;00m \u001b[39mgensim\u001b[39;00m\n\u001b[0;32m---> 24\u001b[0m \u001b[39mfrom\u001b[39;00m \u001b[39mgensim\u001b[39;00m\u001b[39m.\u001b[39;00m\u001b[39mmodels\u001b[39;00m\u001b[39m.\u001b[39;00m\u001b[39mdoc2vec\u001b[39;00m \u001b[39mimport\u001b[39;00m LabeledSentence\n\u001b[1;32m     25\u001b[0m \u001b[39mfrom\u001b[39;00m \u001b[39mgensim\u001b[39;00m\u001b[39m.\u001b[39;00m\u001b[39mtest\u001b[39;00m\u001b[39m.\u001b[39;00m\u001b[39mutils\u001b[39;00m \u001b[39mimport\u001b[39;00m datapath\n\u001b[1;32m     26\u001b[0m \u001b[39mfrom\u001b[39;00m \u001b[39mtqdm\u001b[39;00m \u001b[39mimport\u001b[39;00m tqdm \n",
      "\u001b[0;31mImportError\u001b[0m: cannot import name 'LabeledSentence' from 'gensim.models.doc2vec' (/opt/homebrew/lib/python3.10/site-packages/gensim/models/doc2vec.py)"
     ]
    }
   ],
   "source": [
    "#Basic Libraries\n",
    "import pandas as pd \n",
    "import numpy as np \n",
    "import re\n",
    "import string\n",
    "\n",
    "#Specific library\n",
    "import nltk\n",
    "from nltk.corpus import stopwords\n",
    "from nltk.stem import WordNetLemmatizer\n",
    "from collections import Counter\n",
    "import spacy\n",
    "nltk.download('wordnet')\n",
    "nltk.download('omw-1.4')\n",
    "\n",
    "#Sklearn library\n",
    "from sklearn.feature_extraction.text import TfidfVectorizer, CountVectorizer\n",
    "from sklearn.model_selection import train_test_split\n",
    "from sklearn.metrics import f1_score\n",
    "import sklearn.metrics as metrics\n",
    "\n",
    "#gensim library\n",
    "import gensim\n",
    "from gensim.models.doc2vec import LabeledSentence\n",
    "from gensim.test.utils import datapath\n",
    "from tqdm import tqdm \n",
    "\n",
    "#fastText\n",
    "import fasttext\n",
    "from fasttext import train_supervised \n",
    "\n",
    "#glove\n",
    "import glove \n",
    "from glove import Glove\n",
    "from glove import Corpus\n",
    "\n",
    "#Svm classifier libraries\n",
    "from sklearn.model_selection import GridSearchCV\n",
    "from sklearn.svm import SVC\n",
    "from sklearn import svm\n",
    "\n",
    "#matplotlib\n",
    "import matplotlib.pyplot as plt\n",
    "\n",
    "#seaborn\n",
    "import seaborn as sns\n",
    "#xgboost\n",
    "from xgboost import XGBClassifier\n",
    "\n",
    "#logistic\n",
    "from sklearn.linear_model import LogisticRegression\n"
   ]
  },
  {
   "cell_type": "markdown",
   "id": "4IklGJqHEEuD",
   "metadata": {
    "id": "4IklGJqHEEuD"
   },
   "source": [
    "**IMPORT AND CLEAN THE DATA**"
   ]
  },
  {
   "cell_type": "code",
   "execution_count": 43,
   "id": "nJ5BB4Q-Gugs",
   "metadata": {
    "id": "nJ5BB4Q-Gugs"
   },
   "outputs": [],
   "source": [
    "\n",
    "#import the stopword list from the spacy library \n",
    "#Counter appliation in order to improve the running \n",
    "sp = spacy.load('en_core_web_sm')\n",
    "spacy_stopwords = sp.Defaults.stop_words\n",
    "stopwords_dict = Counter(spacy_stopwords)\n",
    "lemmatizer =WordNetLemmatizer()\n",
    "\n",
    "#cleaning \"pipeline\"  \n",
    "def clean_data(text, stopwords, lemmatization):\n",
    "\n",
    "      #perform casefolding\n",
    "      text =text.casefold()\n",
    "      #remove different tags for instance \"<user>,<url>\" for each twitter\n",
    "      text = re.sub('<[^<]+?>','', text)\n",
    "      #remove digits for each twitter\n",
    "      text = ' '.join(text_ for text_ in text.split() if not text_.isdigit())\n",
    "      #remove punctuations for each twitter\n",
    "      text = ' '.join(text_ for text_ in text.split() if text_ not in string.punctuation)\n",
    "      #remove the tokens length less than 2 \n",
    "      text = ' '.join(text_ for text_ in text.split() if len(text)>2)\n",
    "      \n",
    "      if lemmatization :\n",
    "          #perform lemmatization\n",
    "          text = ' '.join(lemmatizer.lemmatize(text_)  for text_ in text.split() )\n",
    "      \n",
    "      if stopwords:\n",
    "          #remove the stopwords\n",
    "          text = ' '.join([word for word in text.split() if word not in stopwords_dict])\n",
    "      return text\n",
    "\n",
    "\n",
    "#Load the data and run the preprocessor pipeline \n",
    "class Preprocessor:\n",
    "    def __init__(self):\n",
    "        \"\"\"Init function\n",
    "        \"\"\"\n",
    "    def load_data(preprocessed=True):\n",
    "        DIRECTORY1 = \"../data/train_pos.txt\"\n",
    "        DIRECTORY2 = \"../data/train_neg.txt\"\n",
    "\n",
    "        #import the data\n",
    "        pos_data = pd.read_fwf(DIRECTORY1, header=None, names=[\"twitter\"])\n",
    "        pos_data[\"labels\"] = 1\n",
    "        neg_data = pd.read_fwf(DIRECTORY2, header=None, names=[\"twitter\"])\n",
    "        neg_data[\"labels\"] = 0\n",
    "        data = pd.concat([pos_data, neg_data], ignore_index=True)\n",
    "        #print(pos_data.isnull().any(axis=1))\n",
    "        np.random.seed(500)\n",
    "        #shuffle the merge data\n",
    "        data = data.iloc[np.random.permutation(len(data))]\n",
    "        #remove the nan rows\n",
    "\n",
    "        #data.dropna(subset = [\"twitter\"], inplace=True)\n",
    "        data['twitter']=data['twitter'].apply(lambda x : clean_data(x, stopwords=True,lemmatization=True))\n",
    "        \n",
    "        #remove empty lines if any  \n",
    "        data.dropna(subset = [\"twitter\"], inplace=True)\n",
    "\n",
    "        X = data['twitter'].values\n",
    "        y = data['labels'].values\n",
    "\n",
    "        return np.array(X), np.array(y)\n"
   ]
  },
  {
   "cell_type": "code",
   "execution_count": 44,
   "id": "544c30e4",
   "metadata": {},
   "outputs": [],
   "source": [
    "spacy_stopwords = list(sp.Defaults.stop_words)"
   ]
  },
  {
   "cell_type": "code",
   "execution_count": 45,
   "id": "e8db4803",
   "metadata": {},
   "outputs": [],
   "source": [
    "stop_words = spacy_stopwords + ['im', 'dont','dunno', 'cant',\"'s\", 'u', 'x','user','url','rt','lol', '<user>', '<url>']"
   ]
  },
  {
   "cell_type": "code",
   "execution_count": 46,
   "id": "P5UIIoA4IMpR",
   "metadata": {
    "id": "P5UIIoA4IMpR"
   },
   "outputs": [],
   "source": [
    "#import the cleaned data\n",
    "X, y = Preprocessor.load_data(preprocessed=True)"
   ]
  },
  {
   "cell_type": "code",
   "execution_count": 9,
   "id": "O2P1KAw_fT26",
   "metadata": {
    "colab": {
     "base_uri": "https://localhost:8080/"
    },
    "id": "O2P1KAw_fT26",
    "outputId": "deca1609-940c-4769-b4e3-1e928ff69c8a"
   },
   "outputs": [
    {
     "data": {
      "text/plain": [
       "200000"
      ]
     },
     "execution_count": 9,
     "metadata": {},
     "output_type": "execute_result"
    }
   ],
   "source": [
    "len(y)"
   ]
  },
  {
   "cell_type": "code",
   "execution_count": 10,
   "id": "2TJE8472jHnk",
   "metadata": {
    "id": "2TJE8472jHnk"
   },
   "outputs": [],
   "source": [
    "#each sentences to a list of tokens\n",
    "X_ = pd.DataFrame({'twitter': X})\n",
    "X_.twitter=X_.twitter.apply(lambda x : [word for word in x.split()])"
   ]
  },
  {
   "cell_type": "code",
   "execution_count": 11,
   "id": "nHv4el5ckCm4",
   "metadata": {
    "colab": {
     "base_uri": "https://localhost:8080/"
    },
    "id": "nHv4el5ckCm4",
    "outputId": "a6e72736-b352-405d-ddde-e7a1af1e0330"
   },
   "outputs": [
    {
     "data": {
      "text/plain": [
       "array([list(['cable', 'sc', 'sc', 'duplex', '62.5', 'multimode', 'fiber', 'patch', 'cable', 'meter', 'blue', 'color-code', '62.5', '...']),\n",
       "       list(['da', 'flu', 'playing', 'trick', 'wit']),\n",
       "       list(['drew', 'smallzy', 'like', 'asked', \"haven't\", 'seen']), ...,\n",
       "       list(['text', 'device']),\n",
       "       list(['think', 'paid', 'commission', 'new', 'instagram', 'follower', ':p', 'imma', 'hard', 'weather', 'crap']),\n",
       "       list([\"he's\", 'friend', 'attest', 'lost', 'sleep', 'cut', 'originally', '6kwd', 'piece'])],\n",
       "      dtype=object)"
      ]
     },
     "execution_count": 11,
     "metadata": {},
     "output_type": "execute_result"
    }
   ],
   "source": [
    "X_.twitter.values"
   ]
  },
  {
   "cell_type": "code",
   "execution_count": 12,
   "id": "4ItEXkKwJw4u",
   "metadata": {
    "colab": {
     "base_uri": "https://localhost:8080/",
     "height": 555
    },
    "id": "4ItEXkKwJw4u",
    "outputId": "10e9c7e0-ecd7-4f1a-e54b-f8b5513dbd8a"
   },
   "outputs": [
    {
     "data": {
      "image/png": "[encoded data removed]",
      "text/plain": [
       "<Figure size 1440x720 with 1 Axes>"
      ]
     },
     "metadata": {
      "needs_background": "light"
     },
     "output_type": "display_data"
    }
   ],
   "source": [
    "#visualize the common words\n",
    "flat_list = [item for sublist in X_.twitter.values for item in sublist]\n",
    "\n",
    "counter = Counter(flat_list)\n",
    "most = counter.most_common()\n",
    "x = []\n",
    "y_ = []\n",
    "for word,count in most[:50]:\n",
    "        x.append(word)\n",
    "        y_.append(count)\n",
    "\n",
    "plt.figure(figsize = (20, 10))\n",
    "\n",
    "sns.barplot(x = y_,y = x)\n",
    "plt.show()\n",
    "#we need more preprocessing "
   ]
  },
  {
   "cell_type": "markdown",
   "id": "c1PGhnBKggbc",
   "metadata": {
    "id": "c1PGhnBKggbc"
   },
   "source": [
    "**FINDING THE BEST TEXT REPRESENTATIVE TECHNIQUE**"
   ]
  },
  {
   "cell_type": "markdown",
   "id": "Z9ZYxZGSvrhH",
   "metadata": {
    "id": "Z9ZYxZGSvrhH"
   },
   "source": [
    "***TEXT VECTORIZATION TECHNIQUES***"
   ]
  },
  {
   "cell_type": "markdown",
   "id": "zBqRFWHAfK9k",
   "metadata": {
    "id": "zBqRFWHAfK9k"
   },
   "source": [
    "**TF-IDF**"
   ]
  },
  {
   "cell_type": "code",
   "execution_count": 13,
   "id": "sQnjUlKZujI4",
   "metadata": {
    "colab": {
     "base_uri": "https://localhost:8080/"
    },
    "id": "sQnjUlKZujI4",
    "outputId": "b2f96ce9-2158-42a5-ceef-8811b96beb4d"
   },
   "outputs": [
    {
     "data": {
      "text/plain": [
       "(200000, 93474)"
      ]
     },
     "execution_count": 13,
     "metadata": {},
     "output_type": "execute_result"
    }
   ],
   "source": [
    "#TF-IDF text vectorization\n",
    "#represent sentence by tf-idf score but fails to suggest a relation between two words\n",
    "\n",
    "#calculate the TF-IDF matrix (so the scores of each word for every twitter in the entire dataset)\n",
    "#so we do not want the terms that appears in more than 60% of doocuments we are also applying l2 normalization over the columns \n",
    "tf_idf_vectorizer = TfidfVectorizer(max_df=0.7, norm='l2') \n",
    "TF_IDF_X = tf_idf_vectorizer.fit_transform(X) # represent our train data in the vector form of each sentence\n",
    "TF_IDF_X.shape"
   ]
  },
  {
   "cell_type": "markdown",
   "id": "ShMpfUwrfNDS",
   "metadata": {
    "id": "ShMpfUwrfNDS"
   },
   "source": [
    "**Bag of Words**"
   ]
  },
  {
   "cell_type": "code",
   "execution_count": 14,
   "id": "wyXbp89JJV6t",
   "metadata": {
    "colab": {
     "base_uri": "https://localhost:8080/"
    },
    "id": "wyXbp89JJV6t",
    "outputId": "2f98b5f0-9a56-4018-c343-8633e3e84df5"
   },
   "outputs": [
    {
     "data": {
      "text/plain": [
       "(200000, 93474)"
      ]
     },
     "execution_count": 14,
     "metadata": {},
     "output_type": "execute_result"
    }
   ],
   "source": [
    "#Bag of Words text vectorization\n",
    "bow_vectorizer = CountVectorizer(max_df=0.70)\n",
    "bow_X = bow_vectorizer.fit_transform(X)# represent our train data in the vector form of each sentence\n",
    "bow_X.shape"
   ]
  },
  {
   "cell_type": "code",
   "execution_count": 15,
   "id": "UpO4ImVYKUz6",
   "metadata": {
    "id": "UpO4ImVYKUz6"
   },
   "outputs": [],
   "source": [
    "#in the two above baseline text vectorization we represent our tweets as documents of the entire word(vector) appearances over the dataset"
   ]
  },
  {
   "cell_type": "markdown",
   "id": "U_P-lrN92RTJ",
   "metadata": {
    "id": "U_P-lrN92RTJ"
   },
   "source": [
    "***WORD EMBEDDINGS TECHNIQUES***"
   ]
  },
  {
   "cell_type": "code",
   "execution_count": 16,
   "id": "paidw5SpIyT-",
   "metadata": {
    "id": "paidw5SpIyT-"
   },
   "outputs": [],
   "source": [
    "# to represent sentences better so to keep the relations of words within a sentence we apply word embeddings techniques"
   ]
  },
  {
   "cell_type": "markdown",
   "id": "Fer79wBVZ6Us",
   "metadata": {
    "id": "Fer79wBVZ6Us"
   },
   "source": [
    "**Word2Vec**"
   ]
  },
  {
   "cell_type": "code",
   "execution_count": 17,
   "id": "8ckp75FsRiNV",
   "metadata": {
    "id": "8ckp75FsRiNV"
   },
   "outputs": [],
   "source": [
    "#each sentences to a list of tokens\n",
    "X_ = pd.DataFrame({'twitter': X})\n",
    "X_.twitter=X_.twitter.apply(lambda x : [word for word in x.split()])"
   ]
  },
  {
   "cell_type": "code",
   "execution_count": 18,
   "id": "Nb6jzyIWVyGR",
   "metadata": {
    "id": "Nb6jzyIWVyGR"
   },
   "outputs": [],
   "source": [
    "#taking the mean of all words for representing a document/tweet\n",
    "\n",
    "def word_vector(tokens, size, method):\n",
    "    vec = np.zeros(size).reshape((1, size))\n",
    "    count = 0\n",
    "\n",
    "    if method=='word2vec':\n",
    "      for word in tokens:\n",
    "          try:\n",
    "              vec += Word2vec[word].reshape((1, size))\n",
    "              count += 1.\n",
    "          except KeyError:  # handling the case where the token is not in vocabulary\n",
    "              continue\n",
    "    if method=='doc2vec':\n",
    "      for word in tokens:\n",
    "          try:\n",
    "              vec += Doc2vec[word].reshape((1, size))\n",
    "              count += 1.\n",
    "          except KeyError:  # handling the case where the token is not in vocabulary\n",
    "              continue\n",
    "\n",
    "    if method=='glove':\n",
    "      for word in tokens:\n",
    "          try:\n",
    "              vec += glove_model.word_vectors[glove_model.dictionary[word]].reshape((1, size))\n",
    "              count += 1.\n",
    "          except KeyError:  # handling the case where the token is not in vocabulary\n",
    "              continue\n",
    "    if method=='fasttext':\n",
    "      for word in tokens:\n",
    "          try:\n",
    "              vec += fast_Text_model[word].reshape((1, size))\n",
    "              count += 1.\n",
    "          except KeyError:  # handling the case where the token is not in vocabulary\n",
    "              continue\n",
    "    if count != 0:\n",
    "        vec /= count\n",
    "    return vec"
   ]
  },
  {
   "cell_type": "code",
   "execution_count": 19,
   "id": "2AgqEB3JvbPu",
   "metadata": {
    "id": "2AgqEB3JvbPu"
   },
   "outputs": [],
   "source": [
    "#define the Word2Vec \n",
    "Word2vec = gensim.models.Word2Vec(\n",
    "            X_.twitter,\n",
    "            size=200, # desired no. of features/independent variables , try differents sizes of words size representation of each tweet\n",
    "            window=5, # context window size\n",
    "            min_count=2, # Ignores all words with total frequency lower than 2.                                  \n",
    "            sg = 1, # 1 for skip-gram model\n",
    "            hs = 0,\n",
    "            negative = 10, # for negative sampling\n",
    "            workers= 32, # no.of cores\n",
    "            seed = 34\n",
    ") "
   ]
  },
  {
   "cell_type": "code",
   "execution_count": 20,
   "id": "GgaEuv-nTYPg",
   "metadata": {
    "colab": {
     "base_uri": "https://localhost:8080/"
    },
    "id": "GgaEuv-nTYPg",
    "outputId": "d1ba5c6c-175b-4740-87a5-4f45ef81996b"
   },
   "outputs": [
    {
     "name": "stderr",
     "output_type": "stream",
     "text": [
      "WARNING:gensim.models.base_any2vec:Effective 'alpha' higher than previous training cycles\n"
     ]
    },
    {
     "data": {
      "text/plain": [
       "(12999823, 14689820)"
      ]
     },
     "execution_count": 20,
     "metadata": {},
     "output_type": "execute_result"
    }
   ],
   "source": [
    "Word2vec.train(X_.twitter, total_examples= len(X_.twitter), epochs=10)#maybe we should run cross validation "
   ]
  },
  {
   "cell_type": "code",
   "execution_count": 21,
   "id": "jyfdfYUJI9gc",
   "metadata": {
    "colab": {
     "base_uri": "https://localhost:8080/"
    },
    "id": "jyfdfYUJI9gc",
    "outputId": "2fba33bc-56b8-4529-ea33-9cb6cea677d0"
   },
   "outputs": [
    {
     "data": {
      "text/plain": [
       "[('uefa', 0.6234691143035889),\n",
       " ('fernando', 0.6177797913551331),\n",
       " ('torres', 0.6089628338813782),\n",
       " ('videogame', 0.6037684679031372),\n",
       " ('gridiron', 0.5912767052650452),\n",
       " ('arross', 0.5808979868888855),\n",
       " ('bandroom', 0.5785493850708008),\n",
       " ('#kkpsi', 0.5687294006347656),\n",
       " ('mkayy', 0.5622963905334473),\n",
       " ('#ucl', 0.5584178566932678)]"
      ]
     },
     "execution_count": 21,
     "metadata": {},
     "output_type": "execute_result"
    }
   ],
   "source": [
    "Word2vec.wv.most_similar(positive=\"football\")#the positive synonums of the token \"football\" just for instance"
   ]
  },
  {
   "cell_type": "code",
   "execution_count": 22,
   "id": "m-PR_8QuUyQa",
   "metadata": {
    "colab": {
     "base_uri": "https://localhost:8080/"
    },
    "id": "m-PR_8QuUyQa",
    "outputId": "340c8ab2-1647-4c2b-a978-23e829d3e993"
   },
   "outputs": [
    {
     "name": "stderr",
     "output_type": "stream",
     "text": [
      "<ipython-input-18-927ab7d944eb>:10: DeprecationWarning: Call to deprecated `__getitem__` (Method will be removed in 4.0.0, use self.wv.__getitem__() instead).\n",
      "  vec += Word2vec[word].reshape((1, size))\n"
     ]
    },
    {
     "data": {
      "text/plain": [
       "(200000, 200)"
      ]
     },
     "execution_count": 22,
     "metadata": {},
     "output_type": "execute_result"
    }
   ],
   "source": [
    "\n",
    "#create a vector of size 200 for each sentence \n",
    "wordvec_X = np.zeros((len(X_.twitter.values), 200)) \n",
    "for i in range(len(X_.twitter.values)):\n",
    "    wordvec_X[i,:] = word_vector(X_.twitter.values[i], 200,'word2vec')\n",
    "wordvec_X.shape"
   ]
  },
  {
   "cell_type": "code",
   "execution_count": 23,
   "id": "h2Eae3Ch4C9P",
   "metadata": {
    "colab": {
     "base_uri": "https://localhost:8080/"
    },
    "id": "h2Eae3Ch4C9P",
    "outputId": "f6ae40e3-03b7-48b7-b4d7-3c3cdd49b6e2"
   },
   "outputs": [
    {
     "data": {
      "text/plain": [
       "array([[ 0.02603961,  0.31948196,  0.45198683, ...,  0.02944654,\n",
       "         0.21285176,  0.20344445],\n",
       "       [-0.22222865,  0.10158875, -0.1419979 , ..., -0.15416055,\n",
       "        -0.04212153,  0.16047763],\n",
       "       [-0.06553069,  0.03477473, -0.10999584, ..., -0.16592478,\n",
       "        -0.0259028 ,  0.28746829],\n",
       "       ...,\n",
       "       [ 0.09820805,  0.27447108,  0.08206907, ..., -0.1785894 ,\n",
       "         0.15647801,  0.19957394],\n",
       "       [ 0.00525134,  0.08018335, -0.31118347, ..., -0.27788934,\n",
       "         0.00969605,  0.26944401],\n",
       "       [ 0.0455983 ,  0.2244025 , -0.22113024, ..., -0.38807585,\n",
       "        -0.03880239,  0.20693999]])"
      ]
     },
     "execution_count": 23,
     "metadata": {},
     "output_type": "execute_result"
    }
   ],
   "source": [
    "wordvec_X"
   ]
  },
  {
   "cell_type": "markdown",
   "id": "n_hLi-ZFaIxd",
   "metadata": {
    "id": "n_hLi-ZFaIxd"
   },
   "source": [
    "**Doc2Vec**"
   ]
  },
  {
   "cell_type": "code",
   "execution_count": 24,
   "id": "lMjg8idbcUPF",
   "metadata": {
    "colab": {
     "base_uri": "https://localhost:8080/"
    },
    "id": "lMjg8idbcUPF",
    "outputId": "91d5103d-26d9-47cb-fd5b-586e55ad5422"
   },
   "outputs": [
    {
     "name": "stderr",
     "output_type": "stream",
     "text": [
      "<ipython-input-24-fa5131ed851e>:5: DeprecationWarning: Call to deprecated `LabeledSentence` (Class will be removed in 4.0.0, use TaggedDocument instead).\n",
      "  output.append(LabeledSentence(s, [\"tweet_\" + str(i)]))\n"
     ]
    }
   ],
   "source": [
    "#add a unique label to each tweet using Labeled Sentence in order to run the Doc2vec text vectorization \n",
    "def add_label(twt):\n",
    "    output = []\n",
    "    for i, s in zip(twt.index, twt):\n",
    "        output.append(LabeledSentence(s, [\"tweet_\" + str(i)]))\n",
    "    return output\n",
    "\n",
    "X_labeled = add_label(X_.twitter)"
   ]
  },
  {
   "cell_type": "code",
   "execution_count": 25,
   "id": "hM_hEyTeaLnx",
   "metadata": {
    "colab": {
     "base_uri": "https://localhost:8080/"
    },
    "id": "hM_hEyTeaLnx",
    "outputId": "cde8e604-4c0d-4a60-e448-a448c1a4c703"
   },
   "outputs": [
    {
     "name": "stderr",
     "output_type": "stream",
     "text": [
      "100%|██████████| 200000/200000 [00:00<00:00, 2545759.35it/s]\n"
     ]
    }
   ],
   "source": [
    "#define the Doc2Vec\n",
    "#maybe we should run the cross validation\n",
    "Doc2vec = gensim.models.Doc2Vec(dm=1, # dm = 1 for ‘distributed memory’ model\n",
    "                                  dm_mean=1, # dm_mean = 1 for using mean of the context word vectors\n",
    "                                  vector_size=200, # no. of desired features\n",
    "                                  window=5, # width of the context window                                  \n",
    "                                  negative=7, # if > 0 then negative sampling will be used\n",
    "                                  min_count=2, # Ignores all words with total frequency lower than 5.                                  \n",
    "                                  workers=32, # no. of cores                                  \n",
    "                                  alpha=0.1, # learning rate                                  \n",
    "                                  seed = 23, # for reproducibility\n",
    "                                 ) \n",
    "\n",
    "Doc2vec.build_vocab([i for i in tqdm(X_labeled)])\n",
    "\n",
    "Doc2vec.train(X_labeled, total_examples= len(X_labeled), epochs=10)\n"
   ]
  },
  {
   "cell_type": "code",
   "execution_count": 26,
   "id": "NgVkdbhzb55x",
   "metadata": {
    "colab": {
     "base_uri": "https://localhost:8080/"
    },
    "id": "NgVkdbhzb55x",
    "outputId": "c98ec52f-a1cb-49f1-ff8e-485fce7794c6"
   },
   "outputs": [
    {
     "data": {
      "text/plain": [
       "(200000, 200)"
      ]
     },
     "execution_count": 26,
     "metadata": {},
     "output_type": "execute_result"
    }
   ],
   "source": [
    "#create the vectors of each tweet using the doc2vec model\n",
    "\n",
    "doc2vec_X = np.zeros((len(X_.twitter.values), 200)) \n",
    "for i in range(len(X_.twitter.values)):\n",
    "    doc2vec_X[i,:] = word_vector(X_.twitter.values[i], 200,'doc2vec')\n",
    "doc2vec_X.shape"
   ]
  },
  {
   "cell_type": "code",
   "execution_count": 27,
   "id": "hcRVGTl-8_Qc",
   "metadata": {
    "colab": {
     "base_uri": "https://localhost:8080/"
    },
    "id": "hcRVGTl-8_Qc",
    "outputId": "3fa1203b-fc20-4e40-e3ab-fd4449f04a79"
   },
   "outputs": [
    {
     "data": {
      "text/plain": [
       "array([[-0.58617517, -0.19242191, -0.81955043, ...,  0.33660533,\n",
       "         0.29979427,  0.03378139],\n",
       "       [ 0.52194807, -0.65578076, -0.68942839, ...,  0.0340919 ,\n",
       "         0.03221127,  0.47808241],\n",
       "       [-0.15754838,  0.05427129,  0.17049635, ...,  0.27353916,\n",
       "        -0.09951616,  0.34529723],\n",
       "       ...,\n",
       "       [ 0.5554958 ,  0.08452889, -0.8047428 , ...,  0.70160317,\n",
       "         0.79194453, -0.66672337],\n",
       "       [ 0.0690829 ,  0.60621805, -0.68613628, ...,  0.00409198,\n",
       "        -0.30207484, -0.10451946],\n",
       "       [ 0.30573508, -0.22097171, -0.25562016, ...,  0.63344157,\n",
       "         0.08103908, -0.39271296]])"
      ]
     },
     "execution_count": 27,
     "metadata": {},
     "output_type": "execute_result"
    }
   ],
   "source": [
    "doc2vec_X"
   ]
  },
  {
   "cell_type": "markdown",
   "id": "cXGdf9claBvy",
   "metadata": {
    "id": "cXGdf9claBvy"
   },
   "source": [
    "**GloVe**"
   ]
  },
  {
   "cell_type": "code",
   "execution_count": 28,
   "id": "DE4YerO3BlAZ",
   "metadata": {
    "id": "DE4YerO3BlAZ"
   },
   "outputs": [],
   "source": [
    "# instantiate the corpus\n",
    "corpus = Corpus() \n",
    "\n",
    "# this will create the word co occurence matrix \n",
    "corpus.fit(X_.twitter, window=10)"
   ]
  },
  {
   "cell_type": "code",
   "execution_count": 29,
   "id": "bSFqBopeBryD",
   "metadata": {
    "id": "bSFqBopeBryD"
   },
   "outputs": [],
   "source": [
    "# instantiate the model\n",
    "glove_model = Glove(no_components=200, learning_rate=0.1)\n",
    "\n",
    "# and fit over the corpus matrix\n",
    "glove_model.fit(corpus.matrix, epochs=10, no_threads=4)\n",
    "\n",
    "# finally we add the vocabulary to the model\n",
    "glove_model.add_dictionary(corpus.dictionary)"
   ]
  },
  {
   "cell_type": "code",
   "execution_count": 29,
   "id": "FO9e4sqgDN1z",
   "metadata": {
    "id": "FO9e4sqgDN1z"
   },
   "outputs": [],
   "source": []
  },
  {
   "cell_type": "code",
   "execution_count": 30,
   "id": "ogVp6WnTDCnD",
   "metadata": {
    "colab": {
     "base_uri": "https://localhost:8080/"
    },
    "id": "ogVp6WnTDCnD",
    "outputId": "b4e21b67-6dbf-4d12-d73c-5f94aac99954"
   },
   "outputs": [
    {
     "data": {
      "text/plain": [
       "(200000, 200)"
      ]
     },
     "execution_count": 30,
     "metadata": {},
     "output_type": "execute_result"
    }
   ],
   "source": [
    "#create the vectors of each tweet using the glove model by just averaging the words for each sentence\n",
    "glove_X = np.zeros((len(X_.twitter.values), 200)) \n",
    "for i in range(len(X_.twitter.values)):\n",
    "    glove_X[i,:] = word_vector(X_.twitter.values[i], 200,'glove')\n",
    "glove_X.shape"
   ]
  },
  {
   "cell_type": "code",
   "execution_count": 31,
   "id": "_EpxRQ0lC_ZH",
   "metadata": {
    "colab": {
     "base_uri": "https://localhost:8080/"
    },
    "id": "_EpxRQ0lC_ZH",
    "outputId": "77811dab-40f6-4d7a-ad8e-2b549b388381"
   },
   "outputs": [
    {
     "data": {
      "text/plain": [
       "array([[ 0.07806913, -0.04329496,  0.01321094, ..., -0.0947564 ,\n",
       "         0.06576234, -0.08760712],\n",
       "       [ 0.00905418, -0.03182365,  0.02870497, ..., -0.08720629,\n",
       "         0.07391743, -0.01745886],\n",
       "       [ 0.02096238,  0.05213926, -0.05125712, ..., -0.14571882,\n",
       "         0.10159686, -0.05975586],\n",
       "       ...,\n",
       "       [ 0.05111603, -0.17195545,  0.1249349 , ..., -0.12723215,\n",
       "         0.08606703, -0.07972915],\n",
       "       [ 0.04429082, -0.10394958,  0.01894726, ..., -0.15212264,\n",
       "         0.15846224,  0.03944534],\n",
       "       [-0.00192359, -0.06419596,  0.01521721, ..., -0.13503463,\n",
       "         0.10965892,  0.01246723]])"
      ]
     },
     "execution_count": 31,
     "metadata": {},
     "output_type": "execute_result"
    }
   ],
   "source": [
    "glove_X"
   ]
  },
  {
   "cell_type": "markdown",
   "id": "QR8-L9_PaMt4",
   "metadata": {
    "id": "QR8-L9_PaMt4"
   },
   "source": [
    "**FastText**"
   ]
  },
  {
   "cell_type": "code",
   "execution_count": 32,
   "id": "52s6hQWjvk-Q",
   "metadata": {
    "id": "52s6hQWjvk-Q"
   },
   "outputs": [],
   "source": [
    "#train our fastText model for word embeddings \n",
    "\n",
    "embedding_size = 200\n",
    "window_size = 5\n",
    "min_word = 2\n",
    "down_sampling = 1e-2\n",
    " \n",
    "fast_Text_model = gensim.models.FastText(\n",
    "                      size=embedding_size,\n",
    "                      window=window_size,\n",
    "                      min_count=min_word,\n",
    "                      sample=down_sampling,\n",
    "                      workers = 4,\n",
    "                      sg=1,\n",
    "                      iter=100)\n",
    "\n",
    "fast_Text_model.build_vocab(sentences=X_.twitter)\n",
    "total_words = fast_Text_model.corpus_total_words\n",
    "fast_Text_model.train(sentences=X_.twitter, total_words=total_words, epochs=10)"
   ]
  },
  {
   "cell_type": "code",
   "execution_count": 33,
   "id": "NIYUuZzd-vCG",
   "metadata": {
    "colab": {
     "base_uri": "https://localhost:8080/"
    },
    "id": "NIYUuZzd-vCG",
    "outputId": "9af4b136-04f9-4746-a6c1-e80efa5ad0cf"
   },
   "outputs": [
    {
     "name": "stderr",
     "output_type": "stream",
     "text": [
      "<ipython-input-18-927ab7d944eb>:32: DeprecationWarning: Call to deprecated `__getitem__` (Method will be removed in 4.0.0, use self.wv.__getitem__() instead).\n",
      "  vec += fast_Text_model[word].reshape((1, size))\n"
     ]
    },
    {
     "data": {
      "text/plain": [
       "(200000, 200)"
      ]
     },
     "execution_count": 33,
     "metadata": {},
     "output_type": "execute_result"
    }
   ],
   "source": [
    "#create the vectors of each tweet using the fasttext model by just averaging the words for each sentence\n",
    "\n",
    "fastText_X = np.zeros((len(X_.twitter.values), 200)) \n",
    "for i in range(len(X_.twitter.values)):\n",
    "    fastText_X[i,:] = word_vector(X_.twitter.values[i], 200,'fasttext')\n",
    "fastText_X.shape"
   ]
  },
  {
   "cell_type": "code",
   "execution_count": 34,
   "id": "7f0FGcCy-qbE",
   "metadata": {
    "colab": {
     "base_uri": "https://localhost:8080/"
    },
    "id": "7f0FGcCy-qbE",
    "outputId": "3154d2f2-ff72-48ec-dd0c-5498b4402621"
   },
   "outputs": [
    {
     "data": {
      "text/plain": [
       "array([[ 0.09472805, -0.39677169,  0.09416173, ...,  0.06617242,\n",
       "        -0.05497433,  0.38854739],\n",
       "       [-0.0095522 ,  0.18390504,  0.07974035, ..., -0.116596  ,\n",
       "         0.24930438,  0.05105175],\n",
       "       [-0.04010312,  0.05145881, -0.1449402 , ..., -0.07855349,\n",
       "         0.05217977,  0.12901319],\n",
       "       ...,\n",
       "       [ 0.25716037,  0.04820671,  0.00387697, ...,  0.0065099 ,\n",
       "        -0.11720283, -0.00180997],\n",
       "       [ 0.05492487, -0.14253653, -0.0655574 , ..., -0.15353128,\n",
       "         0.04785913,  0.15648126],\n",
       "       [ 0.119001  ,  0.10361731, -0.08331116, ..., -0.04935774,\n",
       "         0.00493375,  0.18169274]])"
      ]
     },
     "execution_count": 34,
     "metadata": {},
     "output_type": "execute_result"
    }
   ],
   "source": [
    "fastText_X"
   ]
  },
  {
   "cell_type": "code",
   "execution_count": 35,
   "id": "QC-x18lZl2TO",
   "metadata": {
    "id": "QC-x18lZl2TO"
   },
   "outputs": [],
   "source": [
    "\n",
    "vectors = {'W2v': wordvec_X, 'D2v': doc2vec_X, 'Glo': glove_X,  'Fst': fastText_X}\n"
   ]
  },
  {
   "cell_type": "code",
   "execution_count": 37,
   "id": "9vyagj-CMUcX",
   "metadata": {
    "id": "9vyagj-CMUcX"
   },
   "outputs": [],
   "source": [
    "# Create the confussion matrix\n",
    "def plot_confussion_matrix(y_test, y_pred):\n",
    "    ''' Plot the confussion matrix for the target labels and predictions '''\n",
    "    cm = confusion_matrix(y_test, y_pred)\n",
    "\n",
    "    # Create a dataframe with the confussion matrix values\n",
    "    df_cm = pd.DataFrame(cm, range(cm.shape[0]),\n",
    "                  range(cm.shape[1]))\n",
    "    #plt.figure(figsize = (10,7))\n",
    "    # Plot the confussion matrix\n",
    "    sn.set(font_scale=1.4) #for label size\n",
    "    sn.heatmap(df_cm, annot=True,fmt='.0f',annot_kws={\"size\": 10})# font size\n",
    "    plt.show()\n",
    "    \n",
    "def plot_roc_curve(y_test, y_pred):\n",
    "    ''' Plot the ROC curve for the target labels and predictions'''\n",
    "    fpr, tpr, thresholds = roc_curve(y_test, y_pred, pos_label=1)\n",
    "    roc_auc= auc(fpr,tpr)\n",
    "\n",
    "    plt.title('Receiver Operating Characteristic')\n",
    "    plt.plot(fpr, tpr, 'b', label = 'AUC = %0.2f' % roc_auc)\n",
    "    plt.legend(loc = 'lower right')\n",
    "    plt.plot([0, 1], [0, 1],'r--')\n",
    "    plt.xlim([0, 1])\n",
    "    plt.ylim([0, 1])\n",
    "    plt.ylabel('True Positive Rate')\n",
    "    plt.xlabel('False Positive Rate')\n",
    "    plt.show()"
   ]
  },
  {
   "cell_type": "markdown",
   "id": "ev_XSo2Yv0Y6",
   "metadata": {
    "id": "ev_XSo2Yv0Y6"
   },
   "source": [
    "**RUN DIFFERENT MODELS**"
   ]
  },
  {
   "cell_type": "code",
   "execution_count": 38,
   "id": "zjTmXUf7Keoo",
   "metadata": {
    "id": "zjTmXUf7Keoo"
   },
   "outputs": [],
   "source": [
    "#split our small(200000 tweet) dataset to a training ,validation and testing set for each of our representations \n",
    "\n",
    "X_W2v=[X_train_W2v, X_test_W2v, Y_train_W2v, Y_test_W2v] = train_test_split(wordvec_X, y, test_size = .25, random_state = 18)\n",
    "X_D2v=[X_train_D2v, X_test_D2v, Y_train_D2v, Y_test_D2v] = train_test_split(doc2vec_X, y, test_size = .25, random_state = 18)\n",
    "X_Glo=[X_train_Glo, X_test_Glo, Y_train_Glo, Y_test_Glo] = train_test_split(glove_X,   y, test_size = .25, random_state = 18)\n",
    "X_Fst=[X_train_Fst, X_test_Fst, Y_train_Fst, Y_test_Fst] = train_test_split(fastText_X, y, test_size = .25, random_state = 18)"
   ]
  },
  {
   "cell_type": "markdown",
   "id": "oMZN0hGphPeX",
   "metadata": {
    "id": "oMZN0hGphPeX"
   },
   "source": [
    "**Logistic Regression**"
   ]
  },
  {
   "cell_type": "code",
   "execution_count": 39,
   "id": "7gct3zAuhR1w",
   "metadata": {
    "colab": {
     "base_uri": "https://localhost:8080/"
    },
    "id": "7gct3zAuhR1w",
    "outputId": "007af978-4e4e-4a2c-fa70-97402a572224"
   },
   "outputs": [
    {
     "name": "stderr",
     "output_type": "stream",
     "text": [
      "<ipython-input-39-a41261a09b80>:9: DeprecationWarning: `np.int` is a deprecated alias for the builtin `int`. To silence this warning, use `int` by itself. Doing this will not modify any behavior and is safe. When replacing `np.int`, you may wish to use e.g. `np.int64` or `np.int32` to specify the precision. If you wish to review your current use, check the release note link for additional information.\n",
      "Deprecated in NumPy 1.20; for more details and guidance: https://numpy.org/devdocs/release/1.20.0-notes.html#deprecations\n",
      "  prediction_int = prediction_int.astype(np.int)\n"
     ]
    },
    {
     "name": "stdout",
     "output_type": "stream",
     "text": [
      "              precision    recall  f1-score   support\n",
      "\n",
      "           0    0.77248   0.74353   0.75773     24978\n",
      "           1    0.75322   0.78139   0.76705     25022\n",
      "\n",
      "    accuracy                        0.76248     50000\n",
      "   macro avg    0.76285   0.76246   0.76239     50000\n",
      "weighted avg    0.76284   0.76248   0.76239     50000\n",
      "\n"
     ]
    },
    {
     "name": "stderr",
     "output_type": "stream",
     "text": [
      "<ipython-input-39-a41261a09b80>:9: DeprecationWarning: `np.int` is a deprecated alias for the builtin `int`. To silence this warning, use `int` by itself. Doing this will not modify any behavior and is safe. When replacing `np.int`, you may wish to use e.g. `np.int64` or `np.int32` to specify the precision. If you wish to review your current use, check the release note link for additional information.\n",
      "Deprecated in NumPy 1.20; for more details and guidance: https://numpy.org/devdocs/release/1.20.0-notes.html#deprecations\n",
      "  prediction_int = prediction_int.astype(np.int)\n"
     ]
    },
    {
     "name": "stdout",
     "output_type": "stream",
     "text": [
      "              precision    recall  f1-score   support\n",
      "\n",
      "           0    0.76076   0.73713   0.74876     24978\n",
      "           1    0.74548   0.76860   0.75687     25022\n",
      "\n",
      "    accuracy                        0.75288     50000\n",
      "   macro avg    0.75312   0.75287   0.75281     50000\n",
      "weighted avg    0.75312   0.75288   0.75282     50000\n",
      "\n"
     ]
    },
    {
     "name": "stderr",
     "output_type": "stream",
     "text": [
      "/usr/local/lib/python3.8/dist-packages/sklearn/linear_model/_logistic.py:814: ConvergenceWarning: lbfgs failed to converge (status=1):\n",
      "STOP: TOTAL NO. of ITERATIONS REACHED LIMIT.\n",
      "\n",
      "Increase the number of iterations (max_iter) or scale the data as shown in:\n",
      "    https://scikit-learn.org/stable/modules/preprocessing.html\n",
      "Please also refer to the documentation for alternative solver options:\n",
      "    https://scikit-learn.org/stable/modules/linear_model.html#logistic-regression\n",
      "  n_iter_i = _check_optimize_result(\n",
      "<ipython-input-39-a41261a09b80>:9: DeprecationWarning: `np.int` is a deprecated alias for the builtin `int`. To silence this warning, use `int` by itself. Doing this will not modify any behavior and is safe. When replacing `np.int`, you may wish to use e.g. `np.int64` or `np.int32` to specify the precision. If you wish to review your current use, check the release note link for additional information.\n",
      "Deprecated in NumPy 1.20; for more details and guidance: https://numpy.org/devdocs/release/1.20.0-notes.html#deprecations\n",
      "  prediction_int = prediction_int.astype(np.int)\n"
     ]
    },
    {
     "name": "stdout",
     "output_type": "stream",
     "text": [
      "              precision    recall  f1-score   support\n",
      "\n",
      "           0    0.71545   0.74117   0.72808     24978\n",
      "           1    0.73201   0.70574   0.71863     25022\n",
      "\n",
      "    accuracy                        0.72344     50000\n",
      "   macro avg    0.72373   0.72346   0.72336     50000\n",
      "weighted avg    0.72374   0.72344   0.72336     50000\n",
      "\n",
      "              precision    recall  f1-score   support\n",
      "\n",
      "           0    0.77466   0.74542   0.75976     24978\n",
      "           1    0.75509   0.78355   0.76906     25022\n",
      "\n",
      "    accuracy                        0.76450     50000\n",
      "   macro avg    0.76488   0.76448   0.76441     50000\n",
      "weighted avg    0.76487   0.76450   0.76441     50000\n",
      "\n"
     ]
    },
    {
     "name": "stderr",
     "output_type": "stream",
     "text": [
      "<ipython-input-39-a41261a09b80>:9: DeprecationWarning: `np.int` is a deprecated alias for the builtin `int`. To silence this warning, use `int` by itself. Doing this will not modify any behavior and is safe. When replacing `np.int`, you may wish to use e.g. `np.int64` or `np.int32` to specify the precision. If you wish to review your current use, check the release note link for additional information.\n",
      "Deprecated in NumPy 1.20; for more details and guidance: https://numpy.org/devdocs/release/1.20.0-notes.html#deprecations\n",
      "  prediction_int = prediction_int.astype(np.int)\n"
     ]
    }
   ],
   "source": [
    "#let's try logistic regression as baseline \n",
    "\n",
    "results=[]\n",
    "for index,vectors in enumerate([X_W2v,X_D2v,X_Glo,X_Fst]):\n",
    "    lreg = LogisticRegression(solver='lbfgs') \n",
    "    lreg.fit(vectors[0], vectors[2]) # try for each vector representation\n",
    "    prediction = lreg.predict_proba(vectors[1]) # predicting on the validation set \n",
    "    prediction_int = prediction[:,1] >= 0.5 # if prediction is greater than or equal to 0.3 than 1 else 0 \n",
    "    prediction_int = prediction_int.astype(np.int) \n",
    "    results.append(f1_score(vectors[3], prediction_int, average='weighted'))\n",
    "    print(metrics.classification_report(vectors[3], prediction_int,  digits=5))"
   ]
  },
  {
   "cell_type": "code",
   "execution_count": 40,
   "id": "JusomkigriTb",
   "metadata": {
    "colab": {
     "base_uri": "https://localhost:8080/"
    },
    "id": "JusomkigriTb",
    "outputId": "ff60e71f-7676-4578-f926-94e61a12df33"
   },
   "outputs": [
    {
     "data": {
      "text/plain": [
       "[0.7623928175697576,\n",
       " 0.7528170841187847,\n",
       " 0.7233551385830764,\n",
       " 0.7644122900200626]"
      ]
     },
     "execution_count": 40,
     "metadata": {},
     "output_type": "execute_result"
    }
   ],
   "source": [
    "results#f1 scores"
   ]
  },
  {
   "cell_type": "markdown",
   "id": "yf8_OEsudSfX",
   "metadata": {
    "id": "yf8_OEsudSfX"
   },
   "source": [
    "**SVM**"
   ]
  },
  {
   "cell_type": "code",
   "execution_count": null,
   "id": "8q4-YADyfcx4",
   "metadata": {
    "id": "8q4-YADyfcx4"
   },
   "outputs": [],
   "source": [
    "#try for all vector represenations\n",
    "\n",
    "svm_results=[]\n",
    "for index,vectors in enumerate([X_W2v,X_D2v,X_Glo,X_Fst]):\n",
    "  svc = svm.SVC(kernel='rbf', C=1).fit(vectors[0], vectors[2])#Fasttext, glovec, word2vec, doc2vec\n",
    "  y_pred =svc.predict(vectors[1]) # \n",
    "  print(metrics.classification_report(vectors[3], y_pred,  digits=5))\n",
    "  svm_results.append(f1_score(vectors[3], prediction_int, average='weighted'))"
   ]
  },
  {
   "cell_type": "code",
   "execution_count": null,
   "id": "A8-dFA-7gRtv",
   "metadata": {
    "id": "A8-dFA-7gRtv"
   },
   "outputs": [],
   "source": [
    "svm_results"
   ]
  },
  {
   "cell_type": "code",
   "execution_count": null,
   "id": "_HMT9bs5LE_6",
   "metadata": {
    "id": "_HMT9bs5LE_6"
   },
   "outputs": [],
   "source": [
    "#SVM\n",
    "#we will try to train SVM using best X/vector presentation of our tweets  which is from the above results the Glove\n",
    "# Define the parameters to tune the model\n",
    "\n",
    "parameters = { \n",
    "    'C': [0.1,1.0, 10.0],\n",
    "    'gamma': [1, 'auto', 'scale']\n",
    "}\n",
    "\n",
    "# Tune yyperparameters  using Grid Search and a SVM model\n",
    "def SVM(X_train,Y_train):\n",
    "  model = GridSearchCV(SVC(kernel='rbf'), parameters,scoring=\"roc_auc\", cv=5, n_jobs=-1).fit(X_train, Y_train)\n",
    "  return model#took more than 2 hours to train only using the FastText vectors representations\n",
    "\n",
    "#we have to run a svm for each representations to see if we will have different results \n",
    "model_svm=SVM(X_train_Glo,Y_train_Glo)\n",
    "y_pred = model_svm.predict(Y_test_Glo) # \n",
    "print(metrics.classification_report(Y_test_Glo, y_pred,  digits=5))\n"
   ]
  },
  {
   "cell_type": "code",
   "execution_count": null,
   "id": "ZCrSoibTHr7r",
   "metadata": {
    "id": "ZCrSoibTHr7r"
   },
   "outputs": [],
   "source": [
    "plot_confussion_matrix(Y_test_Glo, y_pred)\n",
    "plot_roc_curve(Y_test_Glo, y_pred)\n",
    "#run svm for all the above representations "
   ]
  },
  {
   "cell_type": "markdown",
   "id": "hsQeyQpTdVw3",
   "metadata": {
    "id": "hsQeyQpTdVw3"
   },
   "source": [
    "**XGBOOST**"
   ]
  },
  {
   "cell_type": "code",
   "execution_count": null,
   "id": "MutpQigTLDs6",
   "metadata": {
    "id": "MutpQigTLDs6"
   },
   "outputs": [],
   "source": [
    "#XGBoost\n",
    "#we will try to train using the 6 different X presentation of our tweets so the Word2Vec, Doc2Vec, Glove, FastText\n",
    "#and then we will try to tune the best xgboost model for the best vector representation\n",
    "xgboost_results=[]\n",
    "for index,vectors in enumerate([X_W2v,X_D2v,X_Glo,X_Fst]):\n",
    "  xgb_model = XGBClassifier(max_depth=6, n_estimators=1000).fit(vectors[0], vectors[2])\n",
    "  prediction = xgb_model.predict(vectors[1])\n",
    "  print(metrics.classification_report(vectors[3], prediction,  digits=5))\n",
    "  xgboost_results.append(f1_score(vectors[3], prediction_int, average='weighted'))"
   ]
  },
  {
   "cell_type": "code",
   "execution_count": null,
   "id": "4kQwxLoOeluo",
   "metadata": {
    "id": "4kQwxLoOeluo"
   },
   "outputs": [],
   "source": [
    "xgboost_results"
   ]
  }
 ],
 "metadata": {
  "colab": {
   "provenance": []
  },
  "gpuClass": "standard",
  "kernelspec": {
   "display_name": "Python 3 (ipykernel)",
   "language": "python",
   "name": "python3"
  },
  "language_info": {
   "codemirror_mode": {
    "name": "ipython",
    "version": 3
   },
   "file_extension": ".py",
   "mimetype": "text/x-python",
   "name": "python",
   "nbconvert_exporter": "python",
   "pygments_lexer": "ipython3",
   "version": "3.9.12"
  },
  "vscode": {
   "interpreter": {
    "hash": "b0fa6594d8f4cbf19f97940f81e996739fb7646882a419484c72d19e05852a7e"
   }
  }
 },
 "nbformat": 4,
 "nbformat_minor": 5
}
