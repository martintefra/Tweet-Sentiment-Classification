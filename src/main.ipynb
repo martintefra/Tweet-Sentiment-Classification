{
 "cells": [
  {
   "attachments": {},
   "cell_type": "markdown",
   "metadata": {},
   "source": [
    "Will be transformed into a python script at the very end."
   ]
  },
  {
   "cell_type": "code",
   "execution_count": 18,
   "metadata": {},
   "outputs": [],
   "source": [
    "import pandas as pd\n",
    "\n",
    "#matplotlib\n",
    "import matplotlib.pyplot as plt\n",
    "\n",
    "from collections import Counter\n",
    "\n",
    "#seaborn\n",
    "import seaborn as sns\n",
    "\n",
    "#local imports\n",
    "from preprocessing import *\n",
    "\n",
    "from nltk.tokenize import word_tokenize"
   ]
  },
  {
   "cell_type": "markdown",
   "metadata": {},
   "source": [
    "## 1. Preprocessing"
   ]
  },
  {
   "cell_type": "markdown",
   "metadata": {},
   "source": [
    "### 1.1. Importing testing data"
   ]
  },
  {
   "cell_type": "code",
   "execution_count": 4,
   "metadata": {},
   "outputs": [
    {
     "name": "stdout",
     "output_type": "stream",
     "text": [
      "Cleaning data:  10000  tweets cleaned\n",
      "Cleaning data:  20000  tweets cleaned\n",
      "Cleaning data:  30000  tweets cleaned\n",
      "Cleaning data:  40000  tweets cleaned\n",
      "Cleaning data:  50000  tweets cleaned\n",
      "Cleaning data:  60000  tweets cleaned\n",
      "Cleaning data:  70000  tweets cleaned\n",
      "Cleaning data:  80000  tweets cleaned\n",
      "Cleaning data:  90000  tweets cleaned\n",
      "Cleaning data:  100000  tweets cleaned\n",
      "Cleaning data:  110000  tweets cleaned\n",
      "Cleaning data:  120000  tweets cleaned\n",
      "Cleaning data:  130000  tweets cleaned\n",
      "Cleaning data:  140000  tweets cleaned\n",
      "Cleaning data:  150000  tweets cleaned\n",
      "Cleaning data:  160000  tweets cleaned\n",
      "Cleaning data:  170000  tweets cleaned\n"
     ]
    }
   ],
   "source": [
    "data_train = Preprocessor.load_data()"
   ]
  },
  {
   "cell_type": "code",
   "execution_count": 5,
   "metadata": {},
   "outputs": [
    {
     "name": "stdout",
     "output_type": "stream",
     "text": [
      "Cleaning data:  180000  tweets cleaned\n"
     ]
    }
   ],
   "source": [
    "data_test = Preprocessor.load_data(test=True)"
   ]
  },
  {
   "cell_type": "code",
   "execution_count": 6,
   "metadata": {},
   "outputs": [],
   "source": [
    "#import models\n",
    "from models import logistic_regression\n",
    "from models import bayes_classifier"
   ]
  },
  {
   "cell_type": "code",
   "execution_count": null,
   "metadata": {},
   "outputs": [],
   "source": [
    "BEST_MODEL = \"logistic_regression\""
   ]
  },
  {
   "cell_type": "code",
   "execution_count": null,
   "metadata": {},
   "outputs": [],
   "source": [
    "if BEST_MODEL == \"logistic_regression\":\n",
    "    df_predictions = logistic_regression.main(data_train, data_test)\n",
    "elif BEST_MODEL == \"bayes_classifier\":\n",
    "    df_predictions = bayes_classifier.main(data_train, data_test)"
   ]
  },
  {
   "cell_type": "code",
   "execution_count": null,
   "metadata": {},
   "outputs": [],
   "source": [
    "df_predictions.to_csv(\"predictions.csv\", index_label=\"Id\")"
   ]
  }
 ],
 "metadata": {
  "kernelspec": {
   "display_name": "base",
   "language": "python",
   "name": "python3"
  },
  "language_info": {
   "codemirror_mode": {
    "name": "ipython",
    "version": 3
   },
   "file_extension": ".py",
   "mimetype": "text/x-python",
   "name": "python",
   "nbconvert_exporter": "python",
   "pygments_lexer": "ipython3",
   "version": "3.9.12"
  },
  "orig_nbformat": 4,
  "vscode": {
   "interpreter": {
    "hash": "2a46d179ea4e8c70c8981f22c698098d29ff05e8f1f2d45d21ac98236f9fa704"
   }
  }
 },
 "nbformat": 4,
 "nbformat_minor": 2
}
