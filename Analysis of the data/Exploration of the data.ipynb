{
 "cells": [
  {
   "cell_type": "code",
   "execution_count": 1,
   "id": "25d57848",
   "metadata": {},
   "outputs": [],
   "source": [
    "import pandas as pd"
   ]
  },
  {
   "cell_type": "code",
   "execution_count": 2,
   "id": "d087bec2",
   "metadata": {},
   "outputs": [],
   "source": [
    "filename1 = 'data/train_pos_full.txt'\n",
    "with open(filename1) as f1:\n",
    "    train_pos = f1.readlines()"
   ]
  },
  {
   "cell_type": "code",
   "execution_count": 3,
   "id": "28070245",
   "metadata": {},
   "outputs": [],
   "source": [
    "filename2 = 'data/train_neg_full.txt'\n",
    "with open(filename2, encoding=\"utf8\") as f2:\n",
    "    train_neg = f2.readlines()"
   ]
  },
  {
   "cell_type": "markdown",
   "id": "e72b8ebe",
   "metadata": {},
   "source": [
    "# Is there Duplicate ?"
   ]
  },
  {
   "cell_type": "code",
   "execution_count": 4,
   "id": "f7db6573",
   "metadata": {},
   "outputs": [
    {
     "data": {
      "text/plain": [
       "1127644"
      ]
     },
     "execution_count": 4,
     "metadata": {},
     "output_type": "execute_result"
    }
   ],
   "source": [
    "#Remove duplciate positive tweets\n",
    "train_pos_without_duplicate = list(dict.fromkeys(train_pos))\n",
    "len(train_pos_without_duplicate)"
   ]
  },
  {
   "cell_type": "code",
   "execution_count": 5,
   "id": "14f35840",
   "metadata": {},
   "outputs": [
    {
     "data": {
      "text/plain": [
       "1142838"
      ]
     },
     "execution_count": 5,
     "metadata": {},
     "output_type": "execute_result"
    }
   ],
   "source": [
    "#Remove duplciate positive tweets\n",
    "train_neg_without_duplicate = list(dict.fromkeys(train_neg))\n",
    "len(train_neg_without_duplicate)"
   ]
  },
  {
   "cell_type": "raw",
   "id": "77ea2e3c",
   "metadata": {},
   "source": [
    "122'356 duplicates for the positive tweets full data set so 9.7%\n",
    "107'162 duplicates for the negative tweets full data set so 8.5%"
   ]
  },
  {
   "cell_type": "markdown",
   "id": "308438b8",
   "metadata": {},
   "source": [
    "# Most common Words "
   ]
  },
  {
   "cell_type": "code",
   "execution_count": 6,
   "id": "2755227d",
   "metadata": {},
   "outputs": [],
   "source": [
    "def most_common_words(sentence,nbr):\n",
    "    words = sentence.split()\n",
    "\n",
    "    # Create a dictionary to hold the count of each word\n",
    "    word_count = {}\n",
    "\n",
    "    # Iterate over the list of words and increment the count for each word\n",
    "    for word in words:\n",
    "        if word in word_count:\n",
    "            word_count[word] += 1\n",
    "        else:\n",
    "            word_count[word] = 1\n",
    "\n",
    "    # Sort the dictionary by the count of each word in descending order\n",
    "    sorted_word_count = sorted(word_count.items(), key=lambda x: x[1], reverse=True)\n",
    "\n",
    "    # Output a list of tuples with the words and their counts\n",
    "    word_count_list = [(word, count) for (word, count) in sorted_word_count]\n",
    "\n",
    "    return word_count_list[:nbr]"
   ]
  },
  {
   "cell_type": "code",
   "execution_count": 7,
   "id": "1ef452e7",
   "metadata": {},
   "outputs": [],
   "source": [
    "train_pos_class = []\n",
    "\n",
    "#Put each positive tweet in lower case in its own list with correct label (1)\n",
    "for line in train_pos:\n",
    "    train_pos_class.append([line.lower(),1])"
   ]
  },
  {
   "cell_type": "code",
   "execution_count": 8,
   "id": "1f2d2fe4",
   "metadata": {},
   "outputs": [],
   "source": [
    "train_neg_class = []\n",
    "\n",
    "#Put each negative tweet in lower case in its own list with correct label (0)\n",
    "for line in train_neg:\n",
    "    train_neg_class.append([line.lower(),0])"
   ]
  },
  {
   "cell_type": "code",
   "execution_count": 9,
   "id": "bc73f75d",
   "metadata": {},
   "outputs": [],
   "source": [
    "pos_df = pd.DataFrame(train_pos_class)\n",
    "pos_df.columns = [\"text\", \"cat_label\"]\n",
    "\n",
    "neg_df = pd.DataFrame(train_neg_class)\n",
    "neg_df.columns = [\"text\", \"cat_label\"]"
   ]
  },
  {
   "cell_type": "code",
   "execution_count": 10,
   "id": "3c334378",
   "metadata": {},
   "outputs": [
    {
     "data": {
      "text/plain": [
       "[('<user>', 1027186),\n",
       " ('!', 633599),\n",
       " ('i', 456072),\n",
       " ('you', 400487),\n",
       " ('.', 387394),\n",
       " ('to', 346757),\n",
       " (',', 342877),\n",
       " ('the', 327183),\n",
       " ('a', 266343),\n",
       " ('and', 213979)]"
      ]
     },
     "execution_count": 10,
     "metadata": {},
     "output_type": "execute_result"
    }
   ],
   "source": [
    "whole_pos = \" \".join(pos_df.text.values)\n",
    "word_pos_rep = most_common_words(whole_pos,10)\n",
    "word_pos_rep"
   ]
  },
  {
   "cell_type": "code",
   "execution_count": 11,
   "id": "66f0ff53",
   "metadata": {},
   "outputs": [
    {
     "data": {
      "text/plain": [
       "[('<user>', 1027186),\n",
       " ('!', 633599),\n",
       " ('i', 456072),\n",
       " ('you', 400487),\n",
       " ('.', 387394),\n",
       " ('to', 346757),\n",
       " (',', 342877),\n",
       " ('the', 327183),\n",
       " ('a', 266343),\n",
       " ('and', 213979)]"
      ]
     },
     "execution_count": 11,
     "metadata": {},
     "output_type": "execute_result"
    }
   ],
   "source": [
    "whole_neg = \" \".join(pos_df.text.values)\n",
    "word_neg_rep = most_common_words(whole_neg,10)\n",
    "word_neg_rep"
   ]
  },
  {
   "cell_type": "code",
   "execution_count": 12,
   "id": "3392c4e9",
   "metadata": {},
   "outputs": [
    {
     "data": {
      "image/png": "[encoded data removed]",
      "text/plain": [
       "<Figure size 720x360 with 2 Axes>"
      ]
     },
     "metadata": {
      "needs_background": "light"
     },
     "output_type": "display_data"
    }
   ],
   "source": [
    "import matplotlib.pyplot as plt\n",
    "\n",
    "# Define the data for the positive and negative classes\n",
    "positive_words = word_pos_rep\n",
    "negative_words = word_neg_rep\n",
    "\n",
    "# Extract the word counts and words from the tuples\n",
    "positive_counts = [count for word, count in positive_words]\n",
    "positive_words = [word for word, count in positive_words]\n",
    "negative_counts = [count for word, count in negative_words]\n",
    "negative_words = [word for word, count in negative_words]\n",
    "\n",
    "# Create the figure and axes for the two plots\n",
    "fig, (ax1, ax2) = plt.subplots(1, 2, figsize=(10, 5))\n",
    "\n",
    "# Create the bar chart for the positive class\n",
    "ax1.barh(positive_words, positive_counts)\n",
    "\n",
    "# Add labels and title for the positive class\n",
    "ax1.set_xlabel(\"Number of Occurrences\")\n",
    "ax1.set_ylabel(\"Word\")\n",
    "ax1.set_title(\"Top Words in Positive Class\")\n",
    "\n",
    "# Create the bar chart for the negative class\n",
    "ax2.barh(negative_words, negative_counts)\n",
    "\n",
    "# Add labels and title for the negative class\n",
    "ax2.set_xlabel(\"Number of Occurrences\")\n",
    "ax2.set_ylabel(\"Word\")\n",
    "ax2.set_title(\"Top Words in Negative Class\")\n",
    "\n",
    "# Show the plots\n",
    "plt.show()"
   ]
  },
  {
   "cell_type": "raw",
   "id": "562d1698",
   "metadata": {},
   "source": [
    "When analyzing the most common words in the positive and negative classes, it is important to keep in mind that all of these words are stop words or punctuation, which do not provide useful information for sentiment analysis. We need to focus on the content words that are more strongly associated with positive or negative sentiment."
   ]
  },
  {
   "cell_type": "markdown",
   "id": "0016cf27",
   "metadata": {},
   "source": [
    "# Distribution of the length of tweets"
   ]
  },
  {
   "cell_type": "code",
   "execution_count": 13,
   "id": "3c266a5f",
   "metadata": {},
   "outputs": [],
   "source": [
    "lst_len_pos = [len(x) for x in pos_df[\"text\"]]\n",
    "lst_len_neg = [len(x) for x in neg_df[\"text\"]]"
   ]
  },
  {
   "cell_type": "code",
   "execution_count": 14,
   "id": "05c775e2",
   "metadata": {},
   "outputs": [
    {
     "data": {
      "image/png": "[encoded data removed]",
      "text/plain": [
       "<Figure size 720x360 with 2 Axes>"
      ]
     },
     "metadata": {
      "needs_background": "light"
     },
     "output_type": "display_data"
    }
   ],
   "source": [
    "# Import necessary libraries\n",
    "import matplotlib.pyplot as plt\n",
    "import numpy as np\n",
    "\n",
    "# Use NumPy to compute the histogram and statistics for the first list\n",
    "hist1, bins1 = np.histogram(lst_len_neg, bins=50)\n",
    "min_length1 = np.min(lst_len_neg)\n",
    "max_length1 = np.max(lst_len_neg)\n",
    "std_dev1 = np.std(lst_len_neg)\n",
    "\n",
    "# Use NumPy to compute the histogram and statistics for the second list\n",
    "hist2, bins2 = np.histogram(lst_len_pos, bins=50)\n",
    "min_length2 = np.min(lst_len_pos)\n",
    "max_length2 = np.max(lst_len_pos)\n",
    "std_dev2 = np.std(lst_len_pos)\n",
    "\n",
    "# Create the figure and axes for the two plots\n",
    "fig, (ax1, ax2) = plt.subplots(1, 2, figsize=(10, 5))\n",
    "\n",
    "# plot the histogram for the first list using Matplotlib\n",
    "ax1.hist(lst_len_neg, bins=bins1, color='blue', alpha=0.5)\n",
    "\n",
    "# add labels, title, and statistics for the first list\n",
    "ax1.set_xlabel('Tweet Length')\n",
    "ax1.set_ylabel('Frequency')\n",
    "ax1.set_title('Distribution of Tweet Lengths for Negative Tweet')\n",
    "ax1.text(min_length1, 0, 'Min: {}'.format(min_length1))\n",
    "ax1.text(max_length1, 0, 'Max: {}'.format(max_length1))\n",
    "\n",
    "# plot the histogram for the second list using Matplotlib\n",
    "ax2.hist(lst_len_pos, bins=bins2, color='red', alpha=0.5)\n",
    "\n",
    "# add labels, title, and statistics for the second list\n",
    "ax2.set_xlabel('Tweet Length')\n",
    "ax2.set_ylabel('Frequency')\n",
    "ax2.set_title('Distribution of Tweet Lengths for Positive Tweet')\n",
    "ax2.text(min_length2, 0, 'Min: {}'.format(min_length2))\n",
    "ax2.text(max_length2, 0, 'Max: {}'.format(max_length2))\n",
    "\n",
    "# show the plots\n",
    "plt.show()\n"
   ]
  },
  {
   "cell_type": "raw",
   "id": "45c1102d",
   "metadata": {},
   "source": [
    "The length of tweets is not constant or in the same range, so it is important to consider this when analyzing the sentiment of tweets. Longer tweets may have more complex structures and sentiments, while shorter tweets may be more straightforward and less nuanced."
   ]
  },
  {
   "cell_type": "markdown",
   "id": "e7d9fd10",
   "metadata": {},
   "source": [
    "# Effect of our Preprocessing on these metrics"
   ]
  },
  {
   "cell_type": "code",
   "execution_count": 15,
   "id": "a3d64846",
   "metadata": {},
   "outputs": [
    {
     "name": "stderr",
     "output_type": "stream",
     "text": [
      "[nltk_data] Downloading package punkt to\n",
      "[nltk_data]     C:\\Users\\Famaqo\\AppData\\Roaming\\nltk_data...\n",
      "[nltk_data]   Package punkt is already up-to-date!\n",
      "[nltk_data] Downloading package wordnet to\n",
      "[nltk_data]     C:\\Users\\Famaqo\\AppData\\Roaming\\nltk_data...\n",
      "[nltk_data]   Package wordnet is already up-to-date!\n",
      "[nltk_data] Downloading package omw-1.4 to\n",
      "[nltk_data]     C:\\Users\\Famaqo\\AppData\\Roaming\\nltk_data...\n",
      "[nltk_data]   Package omw-1.4 is already up-to-date!\n"
     ]
    },
    {
     "name": "stdout",
     "output_type": "stream",
     "text": [
      "['i', 'me', 'my', 'myself', 'we', 'our', 'ours', 'ourselves', 'you', \"you're\", \"you've\", \"you'll\", \"you'd\", 'your', 'yours', 'yourself', 'yourselves', 'he', 'him', 'his', 'himself', 'she', \"she's\", 'her', 'hers', 'herself', 'it', \"it's\", 'its', 'itself', 'they', 'them', 'their', 'theirs', 'themselves', 'what', 'which', 'who', 'whom', 'this', 'that', \"that'll\", 'these', 'those', 'am', 'is', 'are', 'was', 'were', 'be', 'been', 'being', 'have', 'has', 'had', 'having', 'do', 'does', 'did', 'doing', 'a', 'an', 'the', 'and', 'but', 'if', 'or', 'because', 'as', 'until', 'while', 'of', 'at', 'by', 'for', 'with', 'about', 'against', 'between', 'into', 'through', 'during', 'before', 'after', 'above', 'below', 'to', 'from', 'up', 'down', 'in', 'out', 'on', 'off', 'over', 'under', 'again', 'further', 'then', 'once', 'here', 'there', 'when', 'where', 'why', 'how', 'all', 'any', 'both', 'each', 'few', 'more', 'most', 'other', 'some', 'such', 'no', 'nor', 'not', 'only', 'own', 'same', 'so', 'than', 'too', 'very', 's', 't', 'can', 'will', 'just', 'don', \"don't\", 'should', \"should've\", 'now', 'd', 'll', 'm', 'o', 're', 've', 'y', 'ain', 'aren', \"aren't\", 'couldn', \"couldn't\", 'didn', \"didn't\", 'doesn', \"doesn't\", 'hadn', \"hadn't\", 'hasn', \"hasn't\", 'haven', \"haven't\", 'isn', \"isn't\", 'ma', 'mightn', \"mightn't\", 'mustn', \"mustn't\", 'needn', \"needn't\", 'shan', \"shan't\", 'shouldn', \"shouldn't\", 'wasn', \"wasn't\", 'weren', \"weren't\", 'won', \"won't\", 'wouldn', \"wouldn't\", 'im', 'dont', 'dunno', 'cant', '1', '2', '3', '4', '5', '6', '7', '8', '9', \"'s\", 'u', 'x', 'user', 'url', 'rt', 'lol', 'thank', 'know', 'cant', 'day', 'get', 'one', 'like', 'go', 'frame', 'really', 'paperback', 'ill']\n"
     ]
    }
   ],
   "source": [
    "from preprocessing import*"
   ]
  },
  {
   "cell_type": "code",
   "execution_count": 16,
   "id": "3885001b",
   "metadata": {},
   "outputs": [
    {
     "name": "stdout",
     "output_type": "stream",
     "text": [
      "Cleaning Data Start\n",
      "Clean_tweet DONE\n",
      "Lemmatization DONE\n",
      "Concatenate DONE\n",
      "Remove digit DONE\n",
      "Remove single letter\n",
      "Cleaning Data Start\n",
      "Clean_tweet DONE\n",
      "Lemmatization DONE\n",
      "Concatenate DONE\n",
      "Remove digit DONE\n",
      "Remove single letter\n"
     ]
    }
   ],
   "source": [
    "pos_df_clean = clean_data(pos_df)\n",
    "neg_df_clean = clean_data(neg_df)"
   ]
  },
  {
   "cell_type": "code",
   "execution_count": 17,
   "id": "46fc10b9",
   "metadata": {},
   "outputs": [
    {
     "data": {
      "text/html": [
       "<div>\n",
       "<style scoped>\n",
       "    .dataframe tbody tr th:only-of-type {\n",
       "        vertical-align: middle;\n",
       "    }\n",
       "\n",
       "    .dataframe tbody tr th {\n",
       "        vertical-align: top;\n",
       "    }\n",
       "\n",
       "    .dataframe thead th {\n",
       "        text-align: right;\n",
       "    }\n",
       "</style>\n",
       "<table border=\"1\" class=\"dataframe\">\n",
       "  <thead>\n",
       "    <tr style=\"text-align: right;\">\n",
       "      <th></th>\n",
       "      <th>text</th>\n",
       "      <th>cat_label</th>\n",
       "    </tr>\n",
       "  </thead>\n",
       "  <tbody>\n",
       "    <tr>\n",
       "      <th>0</th>\n",
       "      <td>justin read mention justin god know hope follow believe</td>\n",
       "      <td>1</td>\n",
       "    </tr>\n",
       "    <tr>\n",
       "      <th>1</th>\n",
       "      <td>logic dumb wont even crop name photo tsk</td>\n",
       "      <td>1</td>\n",
       "    </tr>\n",
       "    <tr>\n",
       "      <th>2</th>\n",
       "      <td>put casper box looved battle crakkbitch</td>\n",
       "      <td>1</td>\n",
       "    </tr>\n",
       "    <tr>\n",
       "      <th>3</th>\n",
       "      <td>thanks sir trip lil mama keep doin ya thang</td>\n",
       "      <td>1</td>\n",
       "    </tr>\n",
       "    <tr>\n",
       "      <th>4</th>\n",
       "      <td>visiting brother tmr bestest birthday gift eveerrr</td>\n",
       "      <td>1</td>\n",
       "    </tr>\n",
       "    <tr>\n",
       "      <th>...</th>\n",
       "      <td>...</td>\n",
       "      <td>...</td>\n",
       "    </tr>\n",
       "    <tr>\n",
       "      <th>1249995</th>\n",
       "      <td>warning sign negativity bleed toward others gradually cripple happiness</td>\n",
       "      <td>1</td>\n",
       "    </tr>\n",
       "    <tr>\n",
       "      <th>1249996</th>\n",
       "      <td>ff youuu</td>\n",
       "      <td>1</td>\n",
       "    </tr>\n",
       "    <tr>\n",
       "      <th>1249997</th>\n",
       "      <td>love shumpa thats girl</td>\n",
       "      <td>1</td>\n",
       "    </tr>\n",
       "    <tr>\n",
       "      <th>1249998</th>\n",
       "      <td>best way start matter happens make heart smile</td>\n",
       "      <td>1</td>\n",
       "    </tr>\n",
       "    <tr>\n",
       "      <th>1249999</th>\n",
       "      <td>frenchieswantdtou french directioners want</td>\n",
       "      <td>1</td>\n",
       "    </tr>\n",
       "  </tbody>\n",
       "</table>\n",
       "<p>1250000 rows × 2 columns</p>\n",
       "</div>"
      ],
      "text/plain": [
       "                                                                              text  \\\n",
       "0                        justin read mention justin god know hope follow believe     \n",
       "1                                        logic dumb wont even crop name photo tsk    \n",
       "2                                         put casper box looved battle crakkbitch    \n",
       "3                                     thanks sir trip lil mama keep doin ya thang    \n",
       "4                              visiting brother tmr bestest birthday gift eveerrr    \n",
       "...                                                                            ...   \n",
       "1249995   warning sign negativity bleed toward others gradually cripple happiness    \n",
       "1249996                                                                  ff youuu    \n",
       "1249997                                                    love shumpa thats girl    \n",
       "1249998                            best way start matter happens make heart smile    \n",
       "1249999                                frenchieswantdtou french directioners want    \n",
       "\n",
       "         cat_label  \n",
       "0                1  \n",
       "1                1  \n",
       "2                1  \n",
       "3                1  \n",
       "4                1  \n",
       "...            ...  \n",
       "1249995          1  \n",
       "1249996          1  \n",
       "1249997          1  \n",
       "1249998          1  \n",
       "1249999          1  \n",
       "\n",
       "[1250000 rows x 2 columns]"
      ]
     },
     "execution_count": 17,
     "metadata": {},
     "output_type": "execute_result"
    }
   ],
   "source": [
    "pos_df_clean"
   ]
  },
  {
   "cell_type": "code",
   "execution_count": 18,
   "id": "f6ca83d6",
   "metadata": {},
   "outputs": [
    {
     "data": {
      "text/html": [
       "<div>\n",
       "<style scoped>\n",
       "    .dataframe tbody tr th:only-of-type {\n",
       "        vertical-align: middle;\n",
       "    }\n",
       "\n",
       "    .dataframe tbody tr th {\n",
       "        vertical-align: top;\n",
       "    }\n",
       "\n",
       "    .dataframe thead th {\n",
       "        text-align: right;\n",
       "    }\n",
       "</style>\n",
       "<table border=\"1\" class=\"dataframe\">\n",
       "  <thead>\n",
       "    <tr style=\"text-align: right;\">\n",
       "      <th></th>\n",
       "      <th>text</th>\n",
       "      <th>cat_label</th>\n",
       "    </tr>\n",
       "  </thead>\n",
       "  <tbody>\n",
       "    <tr>\n",
       "      <th>0</th>\n",
       "      <td>vinco tresorpack difficulty   object disassemble reassemble wooden piece beautiful wo</td>\n",
       "      <td>0</td>\n",
       "    </tr>\n",
       "    <tr>\n",
       "      <th>1</th>\n",
       "      <td>glad dot taks tomorrow thankful startho</td>\n",
       "      <td>0</td>\n",
       "    </tr>\n",
       "    <tr>\n",
       "      <th>2</th>\n",
       "      <td>celtic regular season fucked play playoff</td>\n",
       "      <td>0</td>\n",
       "    </tr>\n",
       "    <tr>\n",
       "      <th>3</th>\n",
       "      <td>could actually kill girl sorry</td>\n",
       "      <td>0</td>\n",
       "    </tr>\n",
       "    <tr>\n",
       "      <th>4</th>\n",
       "      <td>find hard believe afraid</td>\n",
       "      <td>0</td>\n",
       "    </tr>\n",
       "    <tr>\n",
       "      <th>...</th>\n",
       "      <td>...</td>\n",
       "      <td>...</td>\n",
       "    </tr>\n",
       "    <tr>\n",
       "      <th>1249995</th>\n",
       "      <td>sorry guy ridiculous</td>\n",
       "      <td>0</td>\n",
       "    </tr>\n",
       "    <tr>\n",
       "      <th>1249996</th>\n",
       "      <td>find food coloring anywhere</td>\n",
       "      <td>0</td>\n",
       "    </tr>\n",
       "    <tr>\n",
       "      <th>1249997</th>\n",
       "      <td>tort wonder chose crime module hahaa trying impressing someone</td>\n",
       "      <td>0</td>\n",
       "    </tr>\n",
       "    <tr>\n",
       "      <th>1249998</th>\n",
       "      <td>keyless entry remote fob clicker  buick lacrosse must programmed buick dealer price</td>\n",
       "      <td>0</td>\n",
       "    </tr>\n",
       "    <tr>\n",
       "      <th>1249999</th>\n",
       "      <td>yeap doctor whats wrong either migraine idk cheer lah everythings gonna okay</td>\n",
       "      <td>0</td>\n",
       "    </tr>\n",
       "  </tbody>\n",
       "</table>\n",
       "<p>1250000 rows × 2 columns</p>\n",
       "</div>"
      ],
      "text/plain": [
       "                                                                                            text  \\\n",
       "0         vinco tresorpack difficulty   object disassemble reassemble wooden piece beautiful wo    \n",
       "1                                                       glad dot taks tomorrow thankful startho    \n",
       "2                                                     celtic regular season fucked play playoff    \n",
       "3                                                                could actually kill girl sorry    \n",
       "4                                                                      find hard believe afraid    \n",
       "...                                                                                          ...   \n",
       "1249995                                                                    sorry guy ridiculous    \n",
       "1249996                                                             find food coloring anywhere    \n",
       "1249997                          tort wonder chose crime module hahaa trying impressing someone    \n",
       "1249998     keyless entry remote fob clicker  buick lacrosse must programmed buick dealer price    \n",
       "1249999            yeap doctor whats wrong either migraine idk cheer lah everythings gonna okay    \n",
       "\n",
       "         cat_label  \n",
       "0                0  \n",
       "1                0  \n",
       "2                0  \n",
       "3                0  \n",
       "4                0  \n",
       "...            ...  \n",
       "1249995          0  \n",
       "1249996          0  \n",
       "1249997          0  \n",
       "1249998          0  \n",
       "1249999          0  \n",
       "\n",
       "[1250000 rows x 2 columns]"
      ]
     },
     "execution_count": 18,
     "metadata": {},
     "output_type": "execute_result"
    }
   ],
   "source": [
    "neg_df_clean"
   ]
  },
  {
   "cell_type": "markdown",
   "id": "3639dca0",
   "metadata": {},
   "source": [
    "# Most common words after preprocessing"
   ]
  },
  {
   "cell_type": "code",
   "execution_count": 19,
   "id": "6aa81bdc",
   "metadata": {},
   "outputs": [
    {
     "data": {
      "text/plain": [
       "[('want', 44830),\n",
       " ('miss', 41971),\n",
       " ('time', 34388),\n",
       " ('love', 34244),\n",
       " ('pack', 32154),\n",
       " ('see', 31616),\n",
       " ('complete', 31239),\n",
       " ('black', 31221),\n",
       " ('please', 31169),\n",
       " ('picture', 30802)]"
      ]
     },
     "execution_count": 19,
     "metadata": {},
     "output_type": "execute_result"
    }
   ],
   "source": [
    "whole_neg_clean = \" \".join(neg_df_clean.text.values)\n",
    "word_neg_rep_clean = most_common_words(whole_neg_clean,10)\n",
    "word_neg_rep_clean"
   ]
  },
  {
   "cell_type": "code",
   "execution_count": 20,
   "id": "849d3652",
   "metadata": {},
   "outputs": [
    {
     "data": {
      "text/plain": [
       "[('love', 94384),\n",
       " ('good', 71882),\n",
       " ('follow', 70570),\n",
       " ('thanks', 63227),\n",
       " ('please', 50179),\n",
       " ('haha', 42547),\n",
       " ('see', 41423),\n",
       " ('back', 40468),\n",
       " ('time', 38864),\n",
       " ('got', 35113)]"
      ]
     },
     "execution_count": 20,
     "metadata": {},
     "output_type": "execute_result"
    }
   ],
   "source": [
    "word_pos_clean = \" \".join(pos_df_clean.text.values)\n",
    "word_pos_rep_clean = most_common_words(word_pos_clean,10)\n",
    "word_pos_rep_clean"
   ]
  },
  {
   "cell_type": "code",
   "execution_count": 21,
   "id": "aec27dbd",
   "metadata": {},
   "outputs": [
    {
     "data": {
      "image/png": "[encoded data removed]",
      "text/plain": [
       "<Figure size 720x360 with 2 Axes>"
      ]
     },
     "metadata": {
      "needs_background": "light"
     },
     "output_type": "display_data"
    }
   ],
   "source": [
    "import matplotlib.pyplot as plt\n",
    "\n",
    "# Define the data for the positive and negative classes\n",
    "positive_words = word_pos_rep_clean\n",
    "negative_words = word_neg_rep_clean\n",
    "\n",
    "# Extract the word counts and words from the tuples\n",
    "positive_counts = [count for word, count in positive_words]\n",
    "positive_words = [word for word, count in positive_words]\n",
    "negative_counts = [count for word, count in negative_words]\n",
    "negative_words = [word for word, count in negative_words]\n",
    "\n",
    "# Create the figure and axes for the two plots\n",
    "fig, (ax1, ax2) = plt.subplots(1, 2, figsize=(10, 5))\n",
    "\n",
    "# Create the bar chart for the positive class\n",
    "ax1.barh(positive_words, positive_counts)\n",
    "\n",
    "# Add labels and title for the positive class\n",
    "ax1.set_xlabel(\"Number of Occurrences\")\n",
    "ax1.set_ylabel(\"Word\")\n",
    "ax1.set_title(\"Top Words in Positive Class\")\n",
    "\n",
    "# Create the bar chart for the negative class\n",
    "ax2.barh(negative_words, negative_counts)\n",
    "\n",
    "# Add labels and title for the negative class\n",
    "ax2.set_xlabel(\"Number of Occurrences\")\n",
    "ax2.set_ylabel(\"Word\")\n",
    "ax2.set_title(\"Top Words in Negative Class\")\n",
    "\n",
    "# Show the plots\n",
    "plt.show()"
   ]
  },
  {
   "cell_type": "raw",
   "id": "3ff91da7",
   "metadata": {},
   "source": [
    "Preprocessing the tweets has also highlighted the most common words, which is useful for several reasons. First, the most common words can provide valuable insights into the overall sentiment of the tweets. For example, if the most common words are positive, such as \"haha\" and \"love,\" it may indicate that the sentiment of the tweets is generally positive. On the other hand, if the most common words are negative, such as \"miss\" and \"need,\" it may indicate that the sentiment of the tweets is generally negative. Second, the most common words can help identify trends and patterns in the data, which can be useful for further analysis."
   ]
  },
  {
   "cell_type": "markdown",
   "id": "6bb1c843",
   "metadata": {},
   "source": [
    "# Distribution of tweets length after preprocessing"
   ]
  },
  {
   "cell_type": "code",
   "execution_count": 22,
   "id": "3c7a6edb",
   "metadata": {},
   "outputs": [],
   "source": [
    "lst_len_pos_clean = [len(x) for x in pos_df_clean[\"text\"]]\n",
    "lst_len_neg_clean = [len(x) for x in neg_df_clean[\"text\"]]"
   ]
  },
  {
   "cell_type": "code",
   "execution_count": 24,
   "id": "1b1b24c7",
   "metadata": {},
   "outputs": [
    {
     "data": {
      "image/png": "[encoded data removed]",
      "text/plain": [
       "<Figure size 432x288 with 1 Axes>"
      ]
     },
     "metadata": {
      "needs_background": "light"
     },
     "output_type": "display_data"
    }
   ],
   "source": [
    "hist, bins = np.histogram(lst_len_pos_clean, bins=50)\n",
    "min_length = np.min(lst_len_pos_clean)\n",
    "max_length = np.max(lst_len_pos_clean)\n",
    "std_dev = np.std(lst_len_pos_clean)\n",
    "\n",
    "# plot the histogram using Matplotlib\n",
    "plt.hist(lst_len_pos_clean, bins=bins, color='blue', alpha=0.5)\n",
    "\n",
    "# add labels, title, and statistics\n",
    "plt.xlabel('Tweet Length')\n",
    "plt.ylabel('Frequency')\n",
    "plt.title('Distribution of Tweet Lengths for positiv tweet after preprocessing')\n",
    "plt.text(min_length, 0, 'Min: {}'.format(min_length))\n",
    "plt.text(max_length, 0, 'Max: {}'.format(max_length))\n",
    "#plt.text(std_dev, 0, 'Std Dev: {}'.format(std_dev))\n",
    "\n",
    "# show the plot\n",
    "plt.show()\n"
   ]
  },
  {
   "cell_type": "code",
   "execution_count": 25,
   "id": "325a03dd",
   "metadata": {},
   "outputs": [
    {
     "data": {
      "image/png": "[encoded data removed]",
      "text/plain": [
       "<Figure size 432x288 with 1 Axes>"
      ]
     },
     "metadata": {
      "needs_background": "light"
     },
     "output_type": "display_data"
    }
   ],
   "source": [
    "hist, bins = np.histogram(lst_len_neg_clean, bins=50)\n",
    "min_length = np.min(lst_len_neg_clean)\n",
    "max_length = np.max(lst_len_neg_clean)\n",
    "std_dev = np.std(lst_len_neg_clean)\n",
    "\n",
    "# plot the histogram using Matplotlib\n",
    "plt.hist(lst_len_neg_clean, bins=bins, color='blue', alpha=0.5)\n",
    "\n",
    "# add labels, title, and statistics\n",
    "plt.xlabel('Tweet Length')\n",
    "plt.ylabel('Frequency')\n",
    "plt.title('Distribution of Tweet Lengths for negativ tweet after preprocessing')\n",
    "plt.text(min_length, 0, 'Min: {}'.format(min_length))\n",
    "plt.text(max_length, 0, 'Max: {}'.format(max_length))\n",
    "#plt.text(std_dev, 0, 'Std Dev: {}'.format(std_dev))\n",
    "\n",
    "# show the plot\n",
    "plt.show()"
   ]
  },
  {
   "cell_type": "raw",
   "id": "5596588a",
   "metadata": {},
   "source": [
    "By shortening the length of the tweets, we can make them easier to work with and process more efficiently. This can lead to faster and more accurate results. Additionally, reducing the length of the tweets can help eliminate unnecessary information and noise, which can improve the overall quality and reliability of the analysis. Finally, shorter tweets can make it easier for readers to understand and interpret the results of the analysis. Overall, preprocessing the tweets to shorten their length is a valuable step that can help ensure the success of the sentiment analysis."
   ]
  }
 ],
 "metadata": {
  "kernelspec": {
   "display_name": "Python 3 (ipykernel)",
   "language": "python",
   "name": "python3"
  },
  "language_info": {
   "codemirror_mode": {
    "name": "ipython",
    "version": 3
   },
   "file_extension": ".py",
   "mimetype": "text/x-python",
   "name": "python",
   "nbconvert_exporter": "python",
   "pygments_lexer": "ipython3",
   "version": "3.9.12"
  }
 },
 "nbformat": 4,
 "nbformat_minor": 5
}
